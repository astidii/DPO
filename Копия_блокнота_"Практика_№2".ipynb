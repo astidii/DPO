{
  "nbformat": 4,
  "nbformat_minor": 0,
  "metadata": {
    "colab": {
      "provenance": [],
      "toc_visible": true,
      "include_colab_link": true
    },
    "kernelspec": {
      "name": "python3",
      "display_name": "Python 3"
    },
    "language_info": {
      "name": "python"
    }
  },
  "cells": [
    {
      "cell_type": "markdown",
      "metadata": {
        "id": "view-in-github",
        "colab_type": "text"
      },
      "source": [
        "<a href=\"https://colab.research.google.com/github/astidii/DPO/blob/main/%D0%9A%D0%BE%D0%BF%D0%B8%D1%8F_%D0%B1%D0%BB%D0%BE%D0%BA%D0%BD%D0%BE%D1%82%D0%B0_%22%D0%9F%D1%80%D0%B0%D0%BA%D1%82%D0%B8%D0%BA%D0%B0_%E2%84%962%22.ipynb\" target=\"_parent\"><img src=\"https://colab.research.google.com/assets/colab-badge.svg\" alt=\"Open In Colab\"/></a>"
      ]
    },
    {
      "cell_type": "markdown",
      "source": [
        "# Практика №2\n",
        "\n",
        "1. Сгенерировать, используя модуль псевдослучайных чисел `random`, или ввести с клавиатуры список целых чисел. Вывести в консоль, затем перевернуть его и снова вывести в консоль.\n",
        "\n",
        "2. Сгенерировать, используя модуль псевдослучайных чисел `random`, или ввести с клавиатуры два списка целых чисел. Вывести их в консоль. Создать новый пустой список. Добавить в него все четные (по индексу) элементы первого списка и все нечетные (по индексу) элементы второго списка. Вывести третий список в консоль.\n",
        "\n",
        "3. Сгенерировать, используя модуль псевдослучайных чисел `random`, или ввести с клавиатуры список произвольных элементов (целые числа, числа с плавающей точкой, строки). Вывести в консоль. Убрать из него все дубликаты через приведение типов. Вывести в консоль.\n",
        "\n",
        "4. Сгенерировать, используя модуль псевдослучайных чисел `random`, или ввести с клавиатуры словарь, где ключом является строка, значением — целое число или число с плавающей точкой. Вывести в консоль. Для всех уникальных значений создать кортеж, где первым элементом будет значение, вторым — список связанных с ним ключей. Собрать эти кортежи в список, вывести его в консоль.\n",
        "\n",
        "5. Сгенерировать, используя модуль псевдослучайных чисел `random`, или ввести с клавиатуры два словаря, где ключом является строка, значением — целое число или число с плавающей точкой. Вывести в консоль. Найти пересечения множеств значений словарей. Создать новый словарь, содержащий только те пары ключ-значение, значения из которых входит в пересечение. Вывести в консоль.\n",
        "\n",
        "[Ссылка на документацию функции `random`](https://docs.python.org/3/library/random.html)\n",
        "\n",
        "[Built-in Types](https://docs.python.org/3/library/stdtypes.html?highlight=tuple#tuple)"
      ],
      "metadata": {
        "id": "64JPlHixec69"
      }
    },
    {
      "cell_type": "markdown",
      "source": [
        "## Задание 1"
      ],
      "metadata": {
        "id": "HAVFiCLPo28O"
      }
    },
    {
      "cell_type": "code",
      "source": [
        "import random\n",
        "\n",
        "def generate_list(k):\n",
        "  return [random.randrange(0, 10) for _ in range(k)]\n",
        "u = generate_list(8)\n",
        "print(u)\n",
        "\n",
        "print(list(reversed(u)))"
      ],
      "metadata": {
        "id": "YyusyI57F_6_",
        "colab": {
          "base_uri": "https://localhost:8080/"
        },
        "outputId": "4b9ddcd2-d059-4023-8bf4-d65847c5b6a7"
      },
      "execution_count": null,
      "outputs": [
        {
          "output_type": "stream",
          "name": "stdout",
          "text": [
            "[9, 2, 2, 2, 0, 7, 6, 1]\n",
            "[1, 6, 7, 0, 2, 2, 2, 9]\n"
          ]
        }
      ]
    },
    {
      "cell_type": "markdown",
      "source": [
        "## Задание 2"
      ],
      "metadata": {
        "id": "a1gbYjASfIqJ"
      }
    },
    {
      "cell_type": "code",
      "source": [
        "import random\n",
        "\n",
        "def generate_list(k):\n",
        "  return [random.randrange(0, 10) for _ in range(k)]\n",
        "\n",
        "list_1 = generate_list(8)\n",
        "list_2 = generate_list(8)\n",
        "print(\"list_1 = \", list_1)\n",
        "print(\"list_2 = \", list_2)\n",
        "\n",
        "list_3 = []\n",
        "\n",
        "for i in range(len(list_1)):\n",
        "  if i % 2 == 0:\n",
        "    list_3.append(list_1[i])\n",
        "\n",
        "for i in range(len(list_2)):\n",
        "  if i % 2 != 0:\n",
        "    list_3.append(list_2[i])\n",
        "\n",
        "print(\"list_3 = \", list_3)\n",
        "\n"
      ],
      "metadata": {
        "id": "Q0qL-Z2CGAXx",
        "colab": {
          "base_uri": "https://localhost:8080/"
        },
        "outputId": "b2e67c45-0b7d-4001-b925-584743c919f1"
      },
      "execution_count": 7,
      "outputs": [
        {
          "output_type": "stream",
          "name": "stdout",
          "text": [
            "list_1 =  [9, 6, 3, 8, 6, 8, 0, 6]\n",
            "list_2 =  [3, 0, 8, 0, 3, 7, 2, 8]\n",
            "list_3 =  [9, 3, 6, 0, 0, 0, 7, 8]\n"
          ]
        }
      ]
    },
    {
      "cell_type": "markdown",
      "source": [
        "## Задание 3"
      ],
      "metadata": {
        "id": "ZITkT8YUfM8t"
      }
    },
    {
      "cell_type": "code",
      "source": [
        "import random\n",
        "\n",
        "def generate_list(k):\n",
        "  return [random.choice([random.randint(0, 10), round(random.uniform(0, 10), 1), random.choice(\"abcdefg\")]) for _ in range (k)]\n",
        "\n",
        "list_1 = generate_list(10)\n",
        "print(list_1)\n",
        "\n",
        "unique_list_1 = list(set(list_1))\n",
        "print(unique_list_1)"
      ],
      "metadata": {
        "id": "FIKNuLjQGAsW",
        "colab": {
          "base_uri": "https://localhost:8080/"
        },
        "outputId": "14bf6b2f-02a5-43ad-c67b-e5dbaa89fd4f"
      },
      "execution_count": 22,
      "outputs": [
        {
          "output_type": "stream",
          "name": "stdout",
          "text": [
            "[2.5, 1.6, 0, 'e', 1.2, 3, 'g', 'e', 8.3, 10]\n",
            "[0, 1.6, 2.5, 1.2, 3, 8.3, 10, 'e', 'g']\n"
          ]
        }
      ]
    },
    {
      "cell_type": "markdown",
      "source": [],
      "metadata": {
        "id": "QNuFxlOI6zSP"
      }
    },
    {
      "cell_type": "markdown",
      "source": [
        "## Задание 4"
      ],
      "metadata": {
        "id": "sqvNf2a6fTdY"
      }
    },
    {
      "cell_type": "code",
      "source": [
        "import random\n",
        "\n",
        "keys = ['a', 'b', 'c', 'd', 'e', 'f']\n",
        "values = []\n",
        "for _ in keys:\n",
        "  if(random.choice([True, False])):\n",
        "    values.append(random.randint(1, 5))\n",
        "  else:\n",
        "    values.append(round(random.randint(1.0, 5.0)))\n",
        "\n",
        "dict_1 = dict(zip(keys, values))\n",
        "print(dict_1)\n",
        "\n",
        "unique_values = {}\n",
        "for key, value in dict_1.items():\n",
        "  if value not in unique_values:\n",
        "    unique_values[value] = []\n",
        "  unique_values[value].append(key)\n",
        "\n",
        "result = [(value, keys) for value, keys in unique_values.items()]\n",
        "\n",
        "print(result)"
      ],
      "metadata": {
        "id": "4qaYZ2dMGBEr",
        "colab": {
          "base_uri": "https://localhost:8080/"
        },
        "outputId": "5ee2606c-7183-49ef-850b-01c33f0c11fd"
      },
      "execution_count": 27,
      "outputs": [
        {
          "output_type": "stream",
          "name": "stdout",
          "text": [
            "{'a': 4, 'b': 3, 'c': 3, 'd': 4, 'e': 2, 'f': 1}\n",
            "[(4, ['a', 'd']), (3, ['b', 'c']), (2, ['e']), (1, ['f'])]\n"
          ]
        }
      ]
    },
    {
      "cell_type": "markdown",
      "source": [
        "## Задание 5"
      ],
      "metadata": {
        "id": "3V5mJOBQfYHe"
      }
    },
    {
      "cell_type": "code",
      "source": [
        "import random\n",
        "\n",
        "def generate_dict():\n",
        "  result = []\n",
        "  keys = ['a', 'b', 'c', 'd', 'e', 'f']\n",
        "  values = []\n",
        "  for _ in keys:\n",
        "    if(random.choice([True, False])):\n",
        "      values.append(random.randint(1, 5))\n",
        "    else:\n",
        "      values.append(round(random.uniform(1.0, 5.0), 1))\n",
        "  result = dict(zip(keys, values))\n",
        "  return result\n",
        "\n",
        "dict_1 = generate_dict();\n",
        "dict_2 = generate_dict();\n",
        "\n",
        "print(dict_1)\n",
        "print(dict_2)\n",
        "\n",
        "values_1 = set(dict_1.values())\n",
        "values_2 = set(dict_2.values())\n",
        "intersection = values_1 & values_2\n",
        "print(intersection)\n",
        "result_dict = {key: value for key, value in dict_1.items() if value in intersection}\n",
        "result_dict.update({key: value for key, value in dict_2.items() if value in intersection})\n",
        "\n",
        "print(result_dict)"
      ],
      "metadata": {
        "id": "7RJzU4DiGBXQ",
        "colab": {
          "base_uri": "https://localhost:8080/"
        },
        "outputId": "6ce58236-d29d-4e22-ec01-f70d5897b895"
      },
      "execution_count": 38,
      "outputs": [
        {
          "output_type": "stream",
          "name": "stdout",
          "text": [
            "{'a': 3.8, 'b': 3.5, 'c': 2.2, 'd': 2.9, 'e': 4.0, 'f': 2.9}\n",
            "{'a': 3.5, 'b': 1.8, 'c': 4, 'd': 5, 'e': 1.9, 'f': 1.1}\n",
            "{3.5, 4.0}\n",
            "{'b': 3.5, 'e': 4.0, 'a': 3.5, 'c': 4}\n"
          ]
        }
      ]
    }
  ]
}